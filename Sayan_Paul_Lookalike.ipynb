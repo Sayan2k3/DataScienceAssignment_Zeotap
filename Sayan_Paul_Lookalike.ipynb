{
 "cells": [
  {
   "cell_type": "code",
   "execution_count": 1,
   "id": "84fe403d-1621-4a0c-bd38-061e910fd91e",
   "metadata": {},
   "outputs": [
    {
     "name": "stdout",
     "output_type": "stream",
     "text": [
      "  CustomerID        CustomerName         Region  SignupDate\n",
      "0      C0001    Lawrence Carroll  South America  2022-07-10\n",
      "1      C0002      Elizabeth Lutz           Asia  2022-02-13\n",
      "2      C0003      Michael Rivera  South America  2024-03-07\n",
      "3      C0004  Kathleen Rodriguez  South America  2022-10-09\n",
      "4      C0005         Laura Weber           Asia  2022-08-15\n",
      "  ProductID              ProductName     Category   Price\n",
      "0      P001     ActiveWear Biography        Books  169.30\n",
      "1      P002    ActiveWear Smartwatch  Electronics  346.30\n",
      "2      P003  ComfortLiving Biography        Books   44.12\n",
      "3      P004            BookWorld Rug   Home Decor   95.69\n",
      "4      P005          TechPro T-Shirt     Clothing  429.31\n",
      "  TransactionID CustomerID ProductID      TransactionDate  Quantity  \\\n",
      "0        T00001      C0199      P067  2024-08-25 12:38:23         1   \n",
      "1        T00112      C0146      P067  2024-05-27 22:23:54         1   \n",
      "2        T00166      C0127      P067  2024-04-25 07:38:55         1   \n",
      "3        T00272      C0087      P067  2024-03-26 22:55:37         2   \n",
      "4        T00363      C0070      P067  2024-03-21 15:10:10         3   \n",
      "\n",
      "   TotalValue   Price  \n",
      "0      300.68  300.68  \n",
      "1      300.68  300.68  \n",
      "2      300.68  300.68  \n",
      "3      601.36  300.68  \n",
      "4      902.04  300.68  \n",
      "  TransactionID CustomerID ProductID      TransactionDate  Quantity  \\\n",
      "0        T00001      C0199      P067  2024-08-25 12:38:23         1   \n",
      "1        T00112      C0146      P067  2024-05-27 22:23:54         1   \n",
      "2        T00166      C0127      P067  2024-04-25 07:38:55         1   \n",
      "3        T00272      C0087      P067  2024-03-26 22:55:37         2   \n",
      "4        T00363      C0070      P067  2024-03-21 15:10:10         3   \n",
      "\n",
      "   TotalValue  Price_x     CustomerName         Region  SignupDate  \\\n",
      "0      300.68   300.68   Andrea Jenkins         Europe  2022-12-03   \n",
      "1      300.68   300.68  Brittany Harvey           Asia  2024-09-04   \n",
      "2      300.68   300.68  Kathryn Stevens         Europe  2024-04-04   \n",
      "3      601.36   300.68  Travis Campbell  South America  2024-04-11   \n",
      "4      902.04   300.68    Timothy Perez         Europe  2022-03-15   \n",
      "\n",
      "                       ProductName     Category  Price_y  \n",
      "0  ComfortLiving Bluetooth Speaker  Electronics   300.68  \n",
      "1  ComfortLiving Bluetooth Speaker  Electronics   300.68  \n",
      "2  ComfortLiving Bluetooth Speaker  Electronics   300.68  \n",
      "3  ComfortLiving Bluetooth Speaker  Electronics   300.68  \n",
      "4  ComfortLiving Bluetooth Speaker  Electronics   300.68  \n"
     ]
    }
   ],
   "source": [
    "import pandas as pd\n",
    "\n",
    "# Load datasets\n",
    "customers = pd.read_csv(\"Customers.csv\")\n",
    "products = pd.read_csv(\"Products.csv\")\n",
    "transactions = pd.read_csv(\"Transactions.csv\")\n",
    "\n",
    "# Inspect the data\n",
    "print(customers.head())\n",
    "print(products.head())\n",
    "print(transactions.head())\n",
    "\n",
    "# Merge datasets based on customer and product ID\n",
    "data = pd.merge(transactions, customers, on=\"CustomerID\", how=\"left\")\n",
    "data = pd.merge(data, products, on=\"ProductID\", how=\"left\")\n",
    "\n",
    "# Inspect merged data\n",
    "print(data.head())\n"
   ]
  },
  {
   "cell_type": "code",
   "execution_count": 2,
   "id": "b47af6bb-d169-41a3-8188-0ced448e7c94",
   "metadata": {},
   "outputs": [
    {
     "name": "stdout",
     "output_type": "stream",
     "text": [
      "  CustomerID  total_spent  num_transactions  avg_transaction_value  Books  \\\n",
      "0      C0001      3354.52                 5                670.904      1   \n",
      "1      C0002      1862.74                 4                465.685      0   \n",
      "2      C0003      2725.38                 4                681.345      0   \n",
      "3      C0004      5354.88                 8                669.360      3   \n",
      "4      C0005      2034.24                 3                678.080      0   \n",
      "\n",
      "   Clothing  Electronics  Home Decor  \n",
      "0         0            3           1  \n",
      "1         2            0           2  \n",
      "2         1            1           2  \n",
      "3         0            2           3  \n",
      "4         0            2           1  \n"
     ]
    }
   ],
   "source": [
    "# Feature Engineering: Total value per customer and product categories purchased\n",
    "customer_features = data.groupby(\"CustomerID\").agg(\n",
    "    total_spent=(\"TotalValue\", \"sum\"),\n",
    "    num_transactions=(\"TransactionID\", \"count\"),\n",
    "    avg_transaction_value=(\"TotalValue\", \"mean\")\n",
    ").reset_index()\n",
    "\n",
    "# Creating a matrix of customers and their purchased product categories\n",
    "product_dummies = pd.get_dummies(data['Category'])\n",
    "category_matrix = data[['CustomerID']].join(product_dummies).groupby('CustomerID').sum()\n",
    "\n",
    "# Merging all customer features into one DataFrame\n",
    "final_features = pd.merge(customer_features, category_matrix, on=\"CustomerID\")\n",
    "\n",
    "# Inspect the features\n",
    "print(final_features.head())\n"
   ]
  },
  {
   "cell_type": "code",
   "execution_count": 3,
   "id": "e99d32f0-85fd-4804-80fa-ca1e1592db57",
   "metadata": {},
   "outputs": [
    {
     "name": "stdout",
     "output_type": "stream",
     "text": [
      "[[-0.06170143 -0.01145819 -0.07026341 -0.3211125  -1.04160638  1.55087763\n",
      "  -0.22104388]\n",
      " [-0.87774353 -0.46749414 -0.93493297 -1.22113205  0.77663634 -1.14846331\n",
      "   0.67666495]\n",
      " [-0.40585722 -0.46749414 -0.02627131 -1.22113205 -0.13248502 -0.248683\n",
      "   0.67666495]\n",
      " [ 1.03254704  1.35664965 -0.0767689   1.47892659 -1.04160638  0.65109731\n",
      "   1.57437379]\n",
      " [-0.78392861 -0.92353008 -0.04002806 -1.22113205 -1.04160638  0.65109731\n",
      "  -0.22104388]]\n"
     ]
    }
   ],
   "source": [
    "from sklearn.preprocessing import StandardScaler\n",
    "\n",
    "# Standardize features (important for similarity measures)\n",
    "scaler = StandardScaler()\n",
    "final_features_scaled = scaler.fit_transform(final_features.drop(\"CustomerID\", axis=1))\n",
    "\n",
    "# Inspect the scaled features\n",
    "print(final_features_scaled[:5])\n"
   ]
  },
  {
   "cell_type": "code",
   "execution_count": 4,
   "id": "15e64117-8a76-4599-8f32-18490d2ef284",
   "metadata": {},
   "outputs": [
    {
     "name": "stdout",
     "output_type": "stream",
     "text": [
      "[[ 1.         -0.48569266  0.00913579  0.20797639  0.63954577]\n",
      " [-0.48569266  1.          0.73430244 -0.52172042  0.1850993 ]\n",
      " [ 0.00913579  0.73430244  1.         -0.38782443  0.62659662]\n",
      " [ 0.20797639 -0.52172042 -0.38782443  1.         -0.42206475]\n",
      " [ 0.63954577  0.1850993   0.62659662 -0.42206475  1.        ]]\n"
     ]
    }
   ],
   "source": [
    "from sklearn.metrics.pairwise import cosine_similarity\n",
    "\n",
    "# Calculate Cosine Similarity between customers\n",
    "similarity_matrix = cosine_similarity(final_features_scaled)\n",
    "\n",
    "# Inspect the similarity matrix (first 5 rows)\n",
    "print(similarity_matrix[:5, :5])\n"
   ]
  },
  {
   "cell_type": "code",
   "execution_count": 5,
   "id": "66db19ee-325f-41e9-a571-2153c10f9753",
   "metadata": {},
   "outputs": [
    {
     "name": "stdout",
     "output_type": "stream",
     "text": [
      "{'C0001': [('C0069', 0.9407645268782763), ('C0127', 0.8464136435133535), ('C0035', 0.8205467534857194)], 'C0002': [('C0103', 0.9042642927981942), ('C0062', 0.8996194316523932), ('C0134', 0.896498006139127)], 'C0003': [('C0166', 0.9735807428089185), ('C0031', 0.8917953346052679), ('C0159', 0.886971557634215)], 'C0004': [('C0122', 0.9053011527825046), ('C0113', 0.901179694499692), ('C0017', 0.9006619650504022)], 'C0005': [('C0197', 0.9973329264482712), ('C0007', 0.9264804915927919), ('C0095', 0.8951298736839268)], 'C0006': [('C0185', 0.8815380939803661), ('C0196', 0.8498678445546697), ('C0187', 0.8353063887191494)], 'C0007': [('C0005', 0.9264804915927919), ('C0140', 0.8970725844443916), ('C0197', 0.8965415446708989)], 'C0008': [('C0162', 0.9279532679550069), ('C0154', 0.8981159146878839), ('C0113', 0.8820876051797876)], 'C0009': [('C0029', 0.940268675423513), ('C0033', 0.9150971843133356), ('C0083', 0.9120460466920219)], 'C0010': [('C0030', 0.9171429718111553), ('C0029', 0.9075640192261676), ('C0077', 0.9046631682601426)], 'C0011': [('C0126', 0.9544249587002084), ('C0171', 0.8878973568452494), ('C0193', 0.8864345449445857)], 'C0012': [('C0065', 0.9730698474833206), ('C0136', 0.930679433591396), ('C0104', 0.9250737050750768)], 'C0013': [('C0105', 0.9428179907046308), ('C0067', 0.9192987753645405), ('C0028', 0.8499995178515612)], 'C0014': [('C0151', 0.9957094809802965), ('C0097', 0.9859286590712919), ('C0060', 0.9776817728927837)], 'C0015': [('C0123', 0.9777176757039584), ('C0014', 0.9267991477261045), ('C0036', 0.920850512384651)], 'C0016': [('C0183', 0.9998922844792281), ('C0107', 0.9877496808910688), ('C0105', 0.8929187843540909)], 'C0017': [('C0075', 0.9485808542982859), ('C0090', 0.9388306852189345), ('C0194', 0.9139950824322934)], 'C0018': [('C0168', 0.9019762771005806), ('C0023', 0.8349094650116251), ('C0148', 0.8148803252608215)], 'C0019': [('C0191', 0.9259333778525201), ('C0174', 0.8690936608550024), ('C0118', 0.8229509141677523)], 'C0020': [('C0140', 0.9451727084319659), ('C0110', 0.9210786472693515), ('C0080', 0.91790919464764)]}\n"
     ]
    }
   ],
   "source": [
    "# Get top 3 similar customers for each customer (C0001 - C0020)\n",
    "top_3_similar_customers = {}\n",
    "for idx, customer_id in enumerate(final_features[\"CustomerID\"][:20]):  # First 20 customers\n",
    "    similarity_scores = similarity_matrix[idx]\n",
    "    similar_customers_idx = similarity_scores.argsort()[-4:-1][::-1]  # Exclude self and get top 3\n",
    "    similar_customers = final_features[\"CustomerID\"].iloc[similar_customers_idx]\n",
    "    scores = similarity_scores[similar_customers_idx]\n",
    "    top_3_similar_customers[customer_id] = list(zip(similar_customers, scores))\n",
    "\n",
    "# Inspect the top 3 similar customers\n",
    "print(top_3_similar_customers)\n"
   ]
  },
  {
   "cell_type": "code",
   "execution_count": 6,
   "id": "4be3126a-9529-4d75-9df3-2f3016f20bb9",
   "metadata": {},
   "outputs": [
    {
     "name": "stdout",
     "output_type": "stream",
     "text": [
      "  CustomerID                       Lookalike_Customers\n",
      "0      C0001  C0069 (0.94), C0127 (0.85), C0035 (0.82)\n",
      "1      C0002  C0103 (0.90), C0062 (0.90), C0134 (0.90)\n",
      "2      C0003  C0166 (0.97), C0031 (0.89), C0159 (0.89)\n",
      "3      C0004  C0122 (0.91), C0113 (0.90), C0017 (0.90)\n",
      "4      C0005  C0197 (1.00), C0007 (0.93), C0095 (0.90)\n"
     ]
    }
   ],
   "source": [
    "# Save the results in a CSV file\n",
    "lookalike_df = pd.DataFrame({\n",
    "    \"CustomerID\": list(top_3_similar_customers.keys()),\n",
    "    \"Lookalike_Customers\": [', '.join([f\"{cust} ({score:.2f})\" for cust, score in similar]) for similar in top_3_similar_customers.values()]\n",
    "})\n",
    "\n",
    "lookalike_df.to_csv(\"Lookalike.csv\", index=False)\n",
    "\n",
    "# Inspect the saved results\n",
    "print(lookalike_df.head())\n"
   ]
  },
  {
   "cell_type": "code",
   "execution_count": 8,
   "id": "3b12db5a-1b41-4464-9637-d692ab465efa",
   "metadata": {},
   "outputs": [
    {
     "name": "stdout",
     "output_type": "stream",
     "text": [
      "Customer Retention Rate: 93.97%\n"
     ]
    }
   ],
   "source": [
    "# Calculate customer retention by comparing first-time and repeat buyers\n",
    "first_time_buyers = transactions.groupby('CustomerID')['TransactionID'].count() == 1\n",
    "repeat_buyers = transactions.groupby('CustomerID')['TransactionID'].count() > 1\n",
    "\n",
    "retention_rate = repeat_buyers.sum() / len(first_time_buyers)\n",
    "print(f\"Customer Retention Rate: {retention_rate:.2%}\")\n"
   ]
  },
  {
   "cell_type": "code",
   "execution_count": 9,
   "id": "9c0d7a7a-b24a-4c65-a5be-11757ddc798f",
   "metadata": {},
   "outputs": [
    {
     "name": "stdout",
     "output_type": "stream",
     "text": [
      "Top 10 customers by Lifetime Value:\n",
      " CustomerID\n",
      "C0141    10673.87\n",
      "C0054     8040.39\n",
      "C0065     7663.70\n",
      "C0156     7634.45\n",
      "C0082     7572.91\n",
      "C0188     7111.32\n",
      "C0059     7073.28\n",
      "C0028     6819.57\n",
      "C0099     6715.72\n",
      "C0165     6708.10\n",
      "Name: TotalValue, dtype: float64\n"
     ]
    }
   ],
   "source": [
    "# Calculate Customer Lifetime Value (CLV)\n",
    "clv = transactions.groupby('CustomerID')['TotalValue'].sum()\n",
    "clv = clv.sort_values(ascending=False)\n",
    "print(\"Top 10 customers by Lifetime Value:\\n\", clv.head(10))\n"
   ]
  },
  {
   "cell_type": "code",
   "execution_count": 11,
   "id": "56dc35f0-6fb8-4f3a-b1e9-cf2e1dfb2e14",
   "metadata": {},
   "outputs": [
    {
     "name": "stdout",
     "output_type": "stream",
     "text": [
      "Collecting mlxtend"
     ]
    },
    {
     "name": "stderr",
     "output_type": "stream",
     "text": [
      "  WARNING: Failed to remove contents in a temporary directory 'C:\\Users\\KIIT\\Downloads\\Lib\\site-packages\\~klearn'.\n",
      "  You can safely remove it manually.\n",
      "ERROR: pip's dependency resolver does not currently take into account all the packages that are installed. This behaviour is the source of the following dependency conflicts.\n",
      "insurance 0.0.1 requires python-dotenv==0.21.0, but you have python-dotenv 1.0.1 which is incompatible.\n",
      "insurance 0.0.1 requires scikit-learn==1.2.0, but you have scikit-learn 1.6.1 which is incompatible.\n",
      "\n",
      "[notice] A new release of pip is available: 24.3.1 -> 25.0\n",
      "[notice] To update, run: python.exe -m pip install --upgrade pip\n"
     ]
    },
    {
     "name": "stdout",
     "output_type": "stream",
     "text": [
      "\n",
      "  Downloading mlxtend-0.23.4-py3-none-any.whl.metadata (7.3 kB)\n",
      "Requirement already satisfied: scipy>=1.2.1 in c:\\users\\kiit\\downloads\\lib\\site-packages (from mlxtend) (1.14.0)\n",
      "Requirement already satisfied: numpy>=1.16.2 in c:\\users\\kiit\\downloads\\lib\\site-packages (from mlxtend) (1.26.4)\n",
      "Requirement already satisfied: pandas>=0.24.2 in c:\\users\\kiit\\downloads\\lib\\site-packages (from mlxtend) (2.2.0)\n",
      "Collecting scikit-learn>=1.3.1 (from mlxtend)\n",
      "  Downloading scikit_learn-1.6.1-cp311-cp311-win_amd64.whl.metadata (15 kB)\n",
      "Requirement already satisfied: matplotlib>=3.0.0 in c:\\users\\kiit\\downloads\\lib\\site-packages (from mlxtend) (3.6.2)\n",
      "Requirement already satisfied: joblib>=0.13.2 in c:\\users\\kiit\\downloads\\lib\\site-packages (from mlxtend) (1.4.2)\n",
      "Requirement already satisfied: contourpy>=1.0.1 in c:\\users\\kiit\\downloads\\lib\\site-packages (from matplotlib>=3.0.0->mlxtend) (1.0.6)\n",
      "Requirement already satisfied: cycler>=0.10 in c:\\users\\kiit\\downloads\\lib\\site-packages (from matplotlib>=3.0.0->mlxtend) (0.11.0)\n",
      "Requirement already satisfied: fonttools>=4.22.0 in c:\\users\\kiit\\downloads\\lib\\site-packages (from matplotlib>=3.0.0->mlxtend) (4.38.0)\n",
      "Requirement already satisfied: kiwisolver>=1.0.1 in c:\\users\\kiit\\downloads\\lib\\site-packages (from matplotlib>=3.0.0->mlxtend) (1.4.4)\n",
      "Requirement already satisfied: packaging>=20.0 in c:\\users\\kiit\\downloads\\lib\\site-packages (from matplotlib>=3.0.0->mlxtend) (23.1)\n",
      "Requirement already satisfied: pillow>=6.2.0 in c:\\users\\kiit\\downloads\\lib\\site-packages (from matplotlib>=3.0.0->mlxtend) (9.3.0)\n",
      "Requirement already satisfied: pyparsing>=2.2.1 in c:\\users\\kiit\\downloads\\lib\\site-packages (from matplotlib>=3.0.0->mlxtend) (3.0.9)\n",
      "Requirement already satisfied: python-dateutil>=2.7 in c:\\users\\kiit\\downloads\\lib\\site-packages (from matplotlib>=3.0.0->mlxtend) (2.8.2)\n",
      "Requirement already satisfied: pytz>=2020.1 in c:\\users\\kiit\\downloads\\lib\\site-packages (from pandas>=0.24.2->mlxtend) (2023.4)\n",
      "Requirement already satisfied: tzdata>=2022.7 in c:\\users\\kiit\\downloads\\lib\\site-packages (from pandas>=0.24.2->mlxtend) (2023.4)\n",
      "Requirement already satisfied: threadpoolctl>=3.1.0 in c:\\users\\kiit\\downloads\\lib\\site-packages (from scikit-learn>=1.3.1->mlxtend) (3.5.0)\n",
      "Requirement already satisfied: six>=1.5 in c:\\users\\kiit\\downloads\\lib\\site-packages (from python-dateutil>=2.7->matplotlib>=3.0.0->mlxtend) (1.16.0)\n",
      "Downloading mlxtend-0.23.4-py3-none-any.whl (1.4 MB)\n",
      "   ---------------------------------------- 0.0/1.4 MB ? eta -:--:--\n",
      "   ---------------------------------------- 0.0/1.4 MB ? eta -:--:--\n",
      "   ------- -------------------------------- 0.3/1.4 MB ? eta -:--:--\n",
      "   --------------- ------------------------ 0.5/1.4 MB 1.1 MB/s eta 0:00:01\n",
      "   --------------- ------------------------ 0.5/1.4 MB 1.1 MB/s eta 0:00:01\n",
      "   ----------------------- ---------------- 0.8/1.4 MB 985.5 kB/s eta 0:00:01\n",
      "   -------------------------------------- - 1.3/1.4 MB 1.2 MB/s eta 0:00:01\n",
      "   ---------------------------------------- 1.4/1.4 MB 1.2 MB/s eta 0:00:00\n",
      "Downloading scikit_learn-1.6.1-cp311-cp311-win_amd64.whl (11.1 MB)\n",
      "   ---------------------------------------- 0.0/11.1 MB ? eta -:--:--\n",
      "    --------------------------------------- 0.3/11.1 MB ? eta -:--:--\n",
      "   -- ------------------------------------- 0.8/11.1 MB 1.8 MB/s eta 0:00:06\n",
      "   --- ------------------------------------ 1.0/11.1 MB 1.9 MB/s eta 0:00:06\n",
      "   ----- ---------------------------------- 1.6/11.1 MB 2.2 MB/s eta 0:00:05\n",
      "   ------- -------------------------------- 2.1/11.1 MB 2.1 MB/s eta 0:00:05\n",
      "   ---------- ----------------------------- 2.9/11.1 MB 2.3 MB/s eta 0:00:04\n",
      "   ------------ --------------------------- 3.4/11.1 MB 2.4 MB/s eta 0:00:04\n",
      "   --------------- ------------------------ 4.2/11.1 MB 2.6 MB/s eta 0:00:03\n",
      "   ------------------ --------------------- 5.2/11.1 MB 2.8 MB/s eta 0:00:03\n",
      "   --------------------- ------------------ 6.0/11.1 MB 3.0 MB/s eta 0:00:02\n",
      "   ------------------------- -------------- 7.1/11.1 MB 3.2 MB/s eta 0:00:02\n",
      "   ------------------------------ --------- 8.4/11.1 MB 3.4 MB/s eta 0:00:01\n",
      "   --------------------------------- ------ 9.4/11.1 MB 3.5 MB/s eta 0:00:01\n",
      "   ---------------------------------------  11.0/11.1 MB 3.8 MB/s eta 0:00:01\n",
      "   ---------------------------------------- 11.1/11.1 MB 3.8 MB/s eta 0:00:00\n",
      "Installing collected packages: scikit-learn, mlxtend\n",
      "  Attempting uninstall: scikit-learn\n",
      "    Found existing installation: scikit-learn 1.2.0\n",
      "    Uninstalling scikit-learn-1.2.0:\n",
      "      Successfully uninstalled scikit-learn-1.2.0\n",
      "Successfully installed mlxtend-0.23.4 scikit-learn-1.6.1\n"
     ]
    }
   ],
   "source": [
    "!pip install mlxtend"
   ]
  },
  {
   "cell_type": "code",
   "execution_count": 17,
   "id": "1f6fd289-ba4e-40b5-bd9e-561441f018a6",
   "metadata": {},
   "outputs": [
    {
     "name": "stdout",
     "output_type": "stream",
     "text": [
      "Requirement already satisfied: statsmodels in c:\\users\\kiit\\downloads\\lib\\site-packages (0.14.4)\n",
      "Requirement already satisfied: numpy<3,>=1.22.3 in c:\\users\\kiit\\downloads\\lib\\site-packages (from statsmodels) (1.26.4)\n",
      "Requirement already satisfied: scipy!=1.9.2,>=1.8 in c:\\users\\kiit\\downloads\\lib\\site-packages (from statsmodels) (1.14.0)\n",
      "Requirement already satisfied: pandas!=2.1.0,>=1.4 in c:\\users\\kiit\\downloads\\lib\\site-packages (from statsmodels) (2.2.0)\n",
      "Requirement already satisfied: patsy>=0.5.6 in c:\\users\\kiit\\downloads\\lib\\site-packages (from statsmodels) (1.0.1)\n",
      "Requirement already satisfied: packaging>=21.3 in c:\\users\\kiit\\downloads\\lib\\site-packages (from statsmodels) (23.1)\n",
      "Requirement already satisfied: python-dateutil>=2.8.2 in c:\\users\\kiit\\downloads\\lib\\site-packages (from pandas!=2.1.0,>=1.4->statsmodels) (2.8.2)\n",
      "Requirement already satisfied: pytz>=2020.1 in c:\\users\\kiit\\downloads\\lib\\site-packages (from pandas!=2.1.0,>=1.4->statsmodels) (2023.4)\n",
      "Requirement already satisfied: tzdata>=2022.7 in c:\\users\\kiit\\downloads\\lib\\site-packages (from pandas!=2.1.0,>=1.4->statsmodels) (2023.4)\n",
      "Requirement already satisfied: six>=1.5 in c:\\users\\kiit\\downloads\\lib\\site-packages (from python-dateutil>=2.8.2->pandas!=2.1.0,>=1.4->statsmodels) (1.16.0)\n"
     ]
    },
    {
     "name": "stderr",
     "output_type": "stream",
     "text": [
      "\n",
      "[notice] A new release of pip is available: 24.3.1 -> 25.0\n",
      "[notice] To update, run: python.exe -m pip install --upgrade pip\n"
     ]
    },
    {
     "ename": "NameError",
     "evalue": "name 'monthly_sales' is not defined",
     "output_type": "error",
     "traceback": [
      "\u001b[1;31m---------------------------------------------------------------------------\u001b[0m",
      "\u001b[1;31mNameError\u001b[0m                                 Traceback (most recent call last)",
      "Cell \u001b[1;32mIn[17], line 7\u001b[0m\n\u001b[0;32m      3\u001b[0m \u001b[38;5;28;01mimport\u001b[39;00m \u001b[38;5;21;01mmatplotlib\u001b[39;00m\u001b[38;5;21;01m.\u001b[39;00m\u001b[38;5;21;01mpyplot\u001b[39;00m \u001b[38;5;28;01mas\u001b[39;00m \u001b[38;5;21;01mplt\u001b[39;00m\n\u001b[0;32m      6\u001b[0m \u001b[38;5;66;03m# Fit ARIMA model\u001b[39;00m\n\u001b[1;32m----> 7\u001b[0m model \u001b[38;5;241m=\u001b[39m ARIMA(\u001b[43mmonthly_sales\u001b[49m, order\u001b[38;5;241m=\u001b[39m(\u001b[38;5;241m5\u001b[39m, \u001b[38;5;241m1\u001b[39m, \u001b[38;5;241m0\u001b[39m))  \u001b[38;5;66;03m# p, d, q parameters\u001b[39;00m\n\u001b[0;32m      8\u001b[0m model_fit \u001b[38;5;241m=\u001b[39m model\u001b[38;5;241m.\u001b[39mfit()\n\u001b[0;32m     10\u001b[0m \u001b[38;5;66;03m# Make predictions\u001b[39;00m\n",
      "\u001b[1;31mNameError\u001b[0m: name 'monthly_sales' is not defined"
     ]
    }
   ],
   "source": [
    "!pip install statsmodels\n",
    "from statsmodels.tsa.arima.model import ARIMA\n",
    "import matplotlib.pyplot as plt\n",
    "\n",
    "\n",
    "# Fit ARIMA model\n",
    "model = ARIMA(monthly_sales, order=(5, 1, 0))  # p, d, q parameters\n",
    "model_fit = model.fit()\n",
    "\n",
    "# Make predictions\n",
    "forecast = model_fit.forecast(steps=12)\n",
    "print(f\"Forecasted Sales for the next 12 months: {forecast}\")\n",
    "\n",
    "# Plot the results\n",
    "plt.title('Monthly Sales Forecast')\n",
    "plt.legend()\n",
    "plt.show()"
   ]
  },
  {
   "cell_type": "code",
   "execution_count": 20,
   "id": "f211f01f-640d-48b0-9a21-22ee7c7e5b40",
   "metadata": {},
   "outputs": [
    {
     "data": {
      "image/png": "[encoded data removed]",
      "text/plain": [
       "<Figure size 640x480 with 1 Axes>"
      ]
     },
     "metadata": {},
     "output_type": "display_data"
    }
   ],
   "source": [
    "import seaborn as sns\n",
    "\n",
    "# Scatter plot to show relationship between price and sales\n",
    "sns.scatterplot(x='Price', y='TotalValue', data=transactions)\n",
    "plt.title(\"Price vs Sales Value\")\n",
    "plt.xlabel(\"Price\")\n",
    "plt.ylabel(\"Sales Value\")\n",
    "plt.show()\n"
   ]
  },
  {
   "cell_type": "code",
   "execution_count": null,
   "id": "70063081-772a-4c62-977b-87358a83f1a7",
   "metadata": {},
   "outputs": [],
   "source": []
  }
 ],
 "metadata": {
  "kernelspec": {
   "display_name": "Python 3 (ipykernel)",
   "language": "python",
   "name": "python3"
  },
  "language_info": {
   "codemirror_mode": {
    "name": "ipython",
    "version": 3
   },
   "file_extension": ".py",
   "mimetype": "text/x-python",
   "name": "python",
   "nbconvert_exporter": "python",
   "pygments_lexer": "ipython3",
   "version": "3.11.5"
  }
 },
 "nbformat": 4,
 "nbformat_minor": 5
}
